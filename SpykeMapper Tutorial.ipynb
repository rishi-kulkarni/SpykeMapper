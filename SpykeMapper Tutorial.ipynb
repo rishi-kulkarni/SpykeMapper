{
 "cells": [
  {
   "cell_type": "code",
   "execution_count": 8,
   "metadata": {},
   "outputs": [],
   "source": [
    "import SpykeMapper as SM"
   ]
  },
  {
   "cell_type": "markdown",
   "metadata": {},
   "source": [
    "Welcome to SpykeMapper! SpykeMapper provides a class for processing voltage imaging data. The data should be organized in an Excel workbook where the first column is time and every other column is an individual neuron. SpykeMapper uses multi-indexing to deal with nested experimental designs, so please organize your data such that each workbook represents a single sample group and each worksheet within the workbook represents neurons from a single field of view imaged simultaneously."
   ]
  },
  {
   "cell_type": "markdown",
   "metadata": {},
   "source": [
    "Run the following block to import your data. SpykeMapper will initialize an instance of the VoltageTraceData class and ask you to select an Excel workbook containing your data. It also measures the time it takes to import the data for your edification."
   ]
  },
  {
   "cell_type": "code",
   "execution_count": 41,
   "metadata": {},
   "outputs": [
    {
     "name": "stdout",
     "output_type": "stream",
     "text": [
      "Excel\n",
      "What XLSX workbook do you want to open?\n",
      "5.003142833709717\n"
     ]
    }
   ],
   "source": [
    "SampleData = SM.VoltageTraceData()\n",
    "SampleData.import_data()"
   ]
  },
  {
   "cell_type": "markdown",
   "metadata": {},
   "source": [
    "Your raw data is now contained in a multi-indexed pandas dataframe contained in the instance variable self.RawData. You can look at the first few columns by running the following block. Note that the columns are indexed by both cell number and worksheet."
   ]
  },
  {
   "cell_type": "code",
   "execution_count": 42,
   "metadata": {},
   "outputs": [
    {
     "data": {
      "text/html": [
       "<div>\n",
       "<style scoped>\n",
       "    .dataframe tbody tr th:only-of-type {\n",
       "        vertical-align: middle;\n",
       "    }\n",
       "\n",
       "    .dataframe tbody tr th {\n",
       "        vertical-align: top;\n",
       "    }\n",
       "\n",
       "    .dataframe thead tr th {\n",
       "        text-align: left;\n",
       "    }\n",
       "\n",
       "    .dataframe thead tr:last-of-type th {\n",
       "        text-align: right;\n",
       "    }\n",
       "</style>\n",
       "<table border=\"1\" class=\"dataframe\">\n",
       "  <thead>\n",
       "    <tr>\n",
       "      <th></th>\n",
       "      <th colspan=\"10\" halign=\"left\">FOV A</th>\n",
       "      <th>...</th>\n",
       "      <th colspan=\"2\" halign=\"left\">FOV F</th>\n",
       "      <th colspan=\"8\" halign=\"left\">FOV G</th>\n",
       "    </tr>\n",
       "    <tr>\n",
       "      <th></th>\n",
       "      <th>Cell 1</th>\n",
       "      <th>Cell 2</th>\n",
       "      <th>Cell 3</th>\n",
       "      <th>Cell 4</th>\n",
       "      <th>Cell 5</th>\n",
       "      <th>Cell 6</th>\n",
       "      <th>Cell 7</th>\n",
       "      <th>Cell 8</th>\n",
       "      <th>Cell 9</th>\n",
       "      <th>Cell 10</th>\n",
       "      <th>...</th>\n",
       "      <th>Cell 13</th>\n",
       "      <th>Cell 14</th>\n",
       "      <th>Cell 1</th>\n",
       "      <th>Cell 2</th>\n",
       "      <th>Cell 3</th>\n",
       "      <th>Cell 4</th>\n",
       "      <th>Cell 5</th>\n",
       "      <th>Cell 6</th>\n",
       "      <th>Cell 7</th>\n",
       "      <th>Cell 8</th>\n",
       "    </tr>\n",
       "    <tr>\n",
       "      <th>Time (2 ms)</th>\n",
       "      <th></th>\n",
       "      <th></th>\n",
       "      <th></th>\n",
       "      <th></th>\n",
       "      <th></th>\n",
       "      <th></th>\n",
       "      <th></th>\n",
       "      <th></th>\n",
       "      <th></th>\n",
       "      <th></th>\n",
       "      <th></th>\n",
       "      <th></th>\n",
       "      <th></th>\n",
       "      <th></th>\n",
       "      <th></th>\n",
       "      <th></th>\n",
       "      <th></th>\n",
       "      <th></th>\n",
       "      <th></th>\n",
       "      <th></th>\n",
       "      <th></th>\n",
       "    </tr>\n",
       "  </thead>\n",
       "  <tbody>\n",
       "    <tr>\n",
       "      <th>1</th>\n",
       "      <td>3087.0059</td>\n",
       "      <td>3084.220</td>\n",
       "      <td>2968.463</td>\n",
       "      <td>3146.5522</td>\n",
       "      <td>2909.309</td>\n",
       "      <td>3807.177</td>\n",
       "      <td>3349.9387</td>\n",
       "      <td>3215.7878</td>\n",
       "      <td>3192.231</td>\n",
       "      <td>3220.0125</td>\n",
       "      <td>...</td>\n",
       "      <td>2534.3623</td>\n",
       "      <td>2725.3369</td>\n",
       "      <td>2712.8125</td>\n",
       "      <td>2483.723</td>\n",
       "      <td>2918.8882</td>\n",
       "      <td>3070.840</td>\n",
       "      <td>2954.0486</td>\n",
       "      <td>2587.7000</td>\n",
       "      <td>3513.7681</td>\n",
       "      <td>2751.2100</td>\n",
       "    </tr>\n",
       "    <tr>\n",
       "      <th>2</th>\n",
       "      <td>3098.8809</td>\n",
       "      <td>3093.119</td>\n",
       "      <td>2981.836</td>\n",
       "      <td>3145.8391</td>\n",
       "      <td>2911.740</td>\n",
       "      <td>3810.386</td>\n",
       "      <td>3346.3674</td>\n",
       "      <td>3227.4026</td>\n",
       "      <td>3201.758</td>\n",
       "      <td>3225.1208</td>\n",
       "      <td>...</td>\n",
       "      <td>2529.9531</td>\n",
       "      <td>2721.9282</td>\n",
       "      <td>2716.5803</td>\n",
       "      <td>2478.907</td>\n",
       "      <td>2917.3630</td>\n",
       "      <td>3069.420</td>\n",
       "      <td>2956.5625</td>\n",
       "      <td>2586.9333</td>\n",
       "      <td>3512.9348</td>\n",
       "      <td>2758.1919</td>\n",
       "    </tr>\n",
       "    <tr>\n",
       "      <th>3</th>\n",
       "      <td>3092.3154</td>\n",
       "      <td>3087.744</td>\n",
       "      <td>2978.035</td>\n",
       "      <td>3148.8218</td>\n",
       "      <td>2911.412</td>\n",
       "      <td>3822.949</td>\n",
       "      <td>3353.0408</td>\n",
       "      <td>3221.4675</td>\n",
       "      <td>3208.517</td>\n",
       "      <td>3220.4624</td>\n",
       "      <td>...</td>\n",
       "      <td>2530.9397</td>\n",
       "      <td>2720.3811</td>\n",
       "      <td>2710.3660</td>\n",
       "      <td>2485.828</td>\n",
       "      <td>2916.4023</td>\n",
       "      <td>3070.573</td>\n",
       "      <td>2959.1667</td>\n",
       "      <td>2589.2932</td>\n",
       "      <td>3519.5725</td>\n",
       "      <td>2761.3469</td>\n",
       "    </tr>\n",
       "    <tr>\n",
       "      <th>4</th>\n",
       "      <td>3084.4106</td>\n",
       "      <td>3091.071</td>\n",
       "      <td>2977.254</td>\n",
       "      <td>3145.3608</td>\n",
       "      <td>2917.054</td>\n",
       "      <td>3818.075</td>\n",
       "      <td>3351.2603</td>\n",
       "      <td>3219.5757</td>\n",
       "      <td>3194.264</td>\n",
       "      <td>3217.3501</td>\n",
       "      <td>...</td>\n",
       "      <td>2531.7046</td>\n",
       "      <td>2724.0276</td>\n",
       "      <td>2704.8481</td>\n",
       "      <td>2481.147</td>\n",
       "      <td>2915.5195</td>\n",
       "      <td>3086.407</td>\n",
       "      <td>2958.3958</td>\n",
       "      <td>2581.1868</td>\n",
       "      <td>3515.9421</td>\n",
       "      <td>2756.0730</td>\n",
       "    </tr>\n",
       "    <tr>\n",
       "      <th>5</th>\n",
       "      <td>3085.7976</td>\n",
       "      <td>3093.582</td>\n",
       "      <td>2976.692</td>\n",
       "      <td>3142.6042</td>\n",
       "      <td>2910.515</td>\n",
       "      <td>3821.014</td>\n",
       "      <td>3355.5969</td>\n",
       "      <td>3229.7966</td>\n",
       "      <td>3191.632</td>\n",
       "      <td>3220.1416</td>\n",
       "      <td>...</td>\n",
       "      <td>2530.4766</td>\n",
       "      <td>2717.6133</td>\n",
       "      <td>2707.2947</td>\n",
       "      <td>2483.538</td>\n",
       "      <td>2920.2458</td>\n",
       "      <td>3069.407</td>\n",
       "      <td>2955.8403</td>\n",
       "      <td>2588.3000</td>\n",
       "      <td>3517.1956</td>\n",
       "      <td>2762.1643</td>\n",
       "    </tr>\n",
       "  </tbody>\n",
       "</table>\n",
       "<p>5 rows × 87 columns</p>\n",
       "</div>"
      ],
      "text/plain": [
       "                 FOV A                                                     \\\n",
       "                Cell 1    Cell 2    Cell 3     Cell 4    Cell 5    Cell 6   \n",
       "Time (2 ms)                                                                 \n",
       "1            3087.0059  3084.220  2968.463  3146.5522  2909.309  3807.177   \n",
       "2            3098.8809  3093.119  2981.836  3145.8391  2911.740  3810.386   \n",
       "3            3092.3154  3087.744  2978.035  3148.8218  2911.412  3822.949   \n",
       "4            3084.4106  3091.071  2977.254  3145.3608  2917.054  3818.075   \n",
       "5            3085.7976  3093.582  2976.692  3142.6042  2910.515  3821.014   \n",
       "\n",
       "                                                        ...      FOV F  \\\n",
       "                Cell 7    Cell 8    Cell 9     Cell 10  ...    Cell 13   \n",
       "Time (2 ms)                                             ...              \n",
       "1            3349.9387  3215.7878  3192.231  3220.0125  ...  2534.3623   \n",
       "2            3346.3674  3227.4026  3201.758  3225.1208  ...  2529.9531   \n",
       "3            3353.0408  3221.4675  3208.517  3220.4624  ...  2530.9397   \n",
       "4            3351.2603  3219.5757  3194.264  3217.3501  ...  2531.7046   \n",
       "5            3355.5969  3229.7966  3191.632  3220.1416  ...  2530.4766   \n",
       "\n",
       "                            FOV G                                            \\\n",
       "               Cell 14     Cell 1    Cell 2     Cell 3    Cell 4     Cell 5   \n",
       "Time (2 ms)                                                                   \n",
       "1            2725.3369  2712.8125  2483.723  2918.8882  3070.840  2954.0486   \n",
       "2            2721.9282  2716.5803  2478.907  2917.3630  3069.420  2956.5625   \n",
       "3            2720.3811  2710.3660  2485.828  2916.4023  3070.573  2959.1667   \n",
       "4            2724.0276  2704.8481  2481.147  2915.5195  3086.407  2958.3958   \n",
       "5            2717.6133  2707.2947  2483.538  2920.2458  3069.407  2955.8403   \n",
       "\n",
       "                                              \n",
       "                Cell 6     Cell 7     Cell 8  \n",
       "Time (2 ms)                                   \n",
       "1            2587.7000  3513.7681  2751.2100  \n",
       "2            2586.9333  3512.9348  2758.1919  \n",
       "3            2589.2932  3519.5725  2761.3469  \n",
       "4            2581.1868  3515.9421  2756.0730  \n",
       "5            2588.3000  3517.1956  2762.1643  \n",
       "\n",
       "[5 rows x 87 columns]"
      ]
     },
     "execution_count": 42,
     "metadata": {},
     "output_type": "execute_result"
    }
   ],
   "source": [
    "SampleData.RawData.head()"
   ]
  },
  {
   "cell_type": "markdown",
   "metadata": {},
   "source": [
    "The next command uses three class methods to convert the raw data into a number of separate traces. Run the next block of code to examine them in more detail. "
   ]
  },
  {
   "cell_type": "code",
   "execution_count": 43,
   "metadata": {},
   "outputs": [],
   "source": [
    "SampleData.preprocess_data()"
   ]
  },
  {
   "cell_type": "markdown",
   "metadata": {},
   "source": [
    "First, the process_raw() method uses symmetric least squares regression to model the subthreshold activity underlying the neuronal spiking. It generates a self.SubThreshold variable containing this fit and a self.Spikes variable, which is self.RawData divided by self.SubThreshold. This is more easily visualized by looking at plots of the first cell in the data."
   ]
  },
  {
   "cell_type": "markdown",
   "metadata": {},
   "source": [
    "The blue line represents the raw fluorescence trace, while the red line represents the modeled subthreshold behavior. The relative smoothness of this fit can be adjusted by running the process_raw() method with smooth and weight arguments. The default for smooth is 5000 and weight is 0.01."
   ]
  },
  {
   "cell_type": "code",
   "execution_count": 59,
   "metadata": {},
   "outputs": [
    {
     "data": {
      "text/plain": [
       "[<matplotlib.lines.Line2D at 0x1b13d800e48>]"
      ]
     },
     "execution_count": 59,
     "metadata": {},
     "output_type": "execute_result"
    },
    {
     "data": {
      "image/png": "[encoded data removed]",
      "text/plain": [
       "<Figure size 432x288 with 1 Axes>"
      ]
     },
     "metadata": {
      "needs_background": "light"
     },
     "output_type": "display_data"
    }
   ],
   "source": [
    "import matplotlib.pyplot as plt\n",
    "plt.plot(SampleData.RawData.index, SampleData.RawData.iloc[:,9], color='b')\n",
    "plt.plot(SampleData.SubThreshold.index, SampleData.SubThreshold.iloc[:,9], color='r')"
   ]
  },
  {
   "cell_type": "markdown",
   "metadata": {},
   "source": [
    "The self.Spikes trace now contains the spiking behavior and photon shot noise due to the detector."
   ]
  },
  {
   "cell_type": "code",
   "execution_count": 60,
   "metadata": {},
   "outputs": [
    {
     "data": {
      "text/plain": [
       "[<matplotlib.lines.Line2D at 0x1b13d608cc0>]"
      ]
     },
     "execution_count": 60,
     "metadata": {},
     "output_type": "execute_result"
    },
    {
     "data": {
      "image/png": "[encoded data removed]",
      "text/plain": [
       "<Figure size 432x288 with 1 Axes>"
      ]
     },
     "metadata": {
      "needs_background": "light"
     },
     "output_type": "display_data"
    }
   ],
   "source": [
    "plt.plot(SampleData.Spikes.index, SampleData.Spikes.iloc[:,9], color='b')"
   ]
  },
  {
   "cell_type": "markdown",
   "metadata": {},
   "source": [
    "The next class method within preprocess_data() is make_spiketrain(), which thresholds the spike data to generate a binary spiketrain by looking for local maxima (within 2 datapoints) that are greater than 4.5x the standard deviation of the noise. This generates the instance variable self.SpikeTrain."
   ]
  },
  {
   "cell_type": "code",
   "execution_count": 61,
   "metadata": {},
   "outputs": [
    {
     "data": {
      "text/plain": [
       "[<matplotlib.lines.Line2D at 0x1b165153940>]"
      ]
     },
     "execution_count": 61,
     "metadata": {},
     "output_type": "execute_result"
    },
    {
     "data": {
      "image/png": "[encoded data removed]",
      "text/plain": [
       "<Figure size 432x288 with 1 Axes>"
      ]
     },
     "metadata": {
      "needs_background": "light"
     },
     "output_type": "display_data"
    }
   ],
   "source": [
    "plt.plot(SampleData.SpikeTrain.index, SampleData.SpikeTrain.iloc[:,9], color='b')"
   ]
  },
  {
   "cell_type": "markdown",
   "metadata": {},
   "source": [
    "The final class method within preprocess_data() is normalize_subthreshold(), which generates the instance variable self.NormSubThresh. This normalizes each of the subthreshold traces by adjusting their mean to 1 by dividing them by their average fluorescence. \n",
    "\n",
    "Note: This does not make the data stationary, nor does it z-score it. It simply converts the raw subthreshold fit into a change in fluorescence graph, which is useful for a number of analyses and not very useful for others. "
   ]
  },
  {
   "cell_type": "code",
   "execution_count": 63,
   "metadata": {},
   "outputs": [
    {
     "data": {
      "text/plain": [
       "[<matplotlib.lines.Line2D at 0x1b1419104e0>]"
      ]
     },
     "execution_count": 63,
     "metadata": {},
     "output_type": "execute_result"
    },
    {
     "data": {
      "image/png": "[encoded data removed]",
      "text/plain": [
       "<Figure size 432x288 with 1 Axes>"
      ]
     },
     "metadata": {
      "needs_background": "light"
     },
     "output_type": "display_data"
    }
   ],
   "source": [
    "plt.plot(SampleData.NormSubThresh.index, SampleData.NormSubThresh.iloc[:,9], color='b')"
   ]
  },
  {
   "cell_type": "markdown",
   "metadata": {},
   "source": [
    "If you want to detrend the data for further analysis, the best strategy is likely to do it by background subtracting your fluorescence videos rather than doing it posthoc in here."
   ]
  },
  {
   "cell_type": "code",
   "execution_count": null,
   "metadata": {},
   "outputs": [],
   "source": []
  }
 ],
 "metadata": {
  "kernelspec": {
   "display_name": "Python 3",
   "language": "python",
   "name": "python3"
  },
  "language_info": {
   "codemirror_mode": {
    "name": "ipython",
    "version": 3
   },
   "file_extension": ".py",
   "mimetype": "text/x-python",
   "name": "python",
   "nbconvert_exporter": "python",
   "pygments_lexer": "ipython3",
   "version": "3.6.0"
  }
 },
 "nbformat": 4,
 "nbformat_minor": 2
}
